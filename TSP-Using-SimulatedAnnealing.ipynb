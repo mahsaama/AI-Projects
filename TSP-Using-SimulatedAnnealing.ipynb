{
 "cells": [
  {
   "cell_type": "markdown",
   "metadata": {
    "direction": "rtl"
   },
   "source": [
    "<div style=\"direction:rtl;line-height:300%;\">\n",
    "\t<font face=\"XB Zar\" size=5>\n",
    "\t\t<div align=center>\n",
    "\t\t\t<font face=\"IranNastaliq\" size=30>\n",
    "\t\t\t\t<p></p>\n",
    "\t\t\t\t<p></p>\n",
    "به نام خدا\n",
    "\t\t\t\t<p></p>\n",
    "\t\t\t</font>\n",
    "\t\t\t<font color=#FF7500>\n",
    "دانشگاه صنعتی شریف - دانشکده مهندسی کامپیوتر\n",
    "            </font>\n",
    "\t\t\t<p></p>\n",
    "\t\t\t<font color=blue>\n",
    "هوش مصنوعی - دکتر محمدحسین رهبان\n",
    "            </font>\n",
    "\t\t\t<br />\n",
    "\t\t\t<br />\n",
    "زمستان ۱۳۹۹\n",
    "\t\t</div>\n",
    "\t\t<hr/>\n",
    "\t\t<div align=center>\n",
    "\t\t    <font color=red size=6>\n",
    "\t\t\t    <br />\n",
    "تمرین عملی اول\n",
    "            \t<br/>\n",
    "\t\t\t</font>\n",
    "طراح: امیرمهدی نامجو\n",
    "\t\t\t<br/><br/>\n",
    "موعد تحویل: ... ساعت ۲۳:۵۹  \n",
    "                <br/>\n",
    "                همفکری در تمامی تمرین‌های درس توصیه می‌شود. در عین حال از شما خواسته می‌شود تا تمام پیاده‌سازی را به تنهایی و بدون مشاهده کد دیگران انجام دهید.\n",
    "                <br/><br/>\n",
    "                <font color=red>\n",
    "                لطفا در فایل ارسالی تمام بلوک‌های کد اجرا شده و شامل نمودار‌ها و خروجی‌های لازم باشند.\n",
    "     </font>\n",
    "                <br/>\n",
    "        </style>\n",
    "\t</font>\n",
    "</div>"
   ]
  },
  {
   "cell_type": "markdown",
   "metadata": {
    "direction": "rtl"
   },
   "source": [
    "نام و نام‌خانوادگی:مهسا امانی"
   ]
  },
  {
   "cell_type": "markdown",
   "metadata": {
    "direction": "rtl"
   },
   "source": [
    "شماره دانشجویی:97105769"
   ]
  },
  {
   "cell_type": "markdown",
   "metadata": {
    "direction": "rtl"
   },
   "source": [
    "نام افرادی که با آن ها مشورت کردید"
   ]
  },
  {
   "cell_type": "markdown",
   "metadata": {
    "direction": "rtl"
   },
   "source": [
    "در صورتی که آخرین نسخه Jupyter Notebook را نصب ندارید، با دستور زیر آن را آپدیت کرده و سپس با بستن و باز کردن مجدد صفحه به حل سوال بپردازید. (آخرین نسخه Jupyter برای نمایش مناسب زبان فارسی بدون نیاز به کد html لازم است)"
   ]
  },
  {
   "cell_type": "code",
   "execution_count": 1,
   "metadata": {
    "scrolled": true
   },
   "outputs": [
    {
     "name": "stdout",
     "output_type": "stream",
     "text": [
      "Requirement already satisfied: jupyter in c:\\users\\arian\\anaconda3\\lib\\site-packages (1.0.0)\n",
      "Requirement already satisfied: ipywidgets in c:\\users\\arian\\anaconda3\\lib\\site-packages (from jupyter) (7.5.1)\n",
      "Requirement already satisfied: jupyter-console in c:\\users\\arian\\anaconda3\\lib\\site-packages (from jupyter) (6.0.0)\n",
      "Requirement already satisfied: ipykernel in c:\\users\\arian\\anaconda3\\lib\\site-packages (from jupyter) (5.1.2)\n",
      "Requirement already satisfied: nbconvert in c:\\users\\arian\\anaconda3\\lib\\site-packages (from jupyter) (5.6.0)\n",
      "Requirement already satisfied: qtconsole in c:\\users\\arian\\anaconda3\\lib\\site-packages (from jupyter) (4.5.5)\n",
      "Requirement already satisfied: notebook in c:\\users\\arian\\appdata\\roaming\\python\\python37\\site-packages (from jupyter) (6.2.0)\n",
      "Requirement already satisfied: traitlets>=4.1.0 in c:\\users\\arian\\anaconda3\\lib\\site-packages (from ipykernel->jupyter) (4.3.3)\n",
      "Requirement already satisfied: ipython>=5.0.0 in c:\\users\\arian\\anaconda3\\lib\\site-packages (from ipykernel->jupyter) (7.8.0)\n",
      "Requirement already satisfied: jupyter-client in c:\\users\\arian\\appdata\\roaming\\python\\python37\\site-packages (from ipykernel->jupyter) (6.1.11)\n",
      "Requirement already satisfied: tornado>=4.2 in c:\\users\\arian\\anaconda3\\lib\\site-packages (from ipykernel->jupyter) (6.1)\n",
      "Requirement already satisfied: decorator in c:\\users\\arian\\anaconda3\\lib\\site-packages (from ipython>=5.0.0->ipykernel->jupyter) (4.4.0)\n",
      "Requirement already satisfied: prompt-toolkit<2.1.0,>=2.0.0 in c:\\users\\arian\\anaconda3\\lib\\site-packages (from ipython>=5.0.0->ipykernel->jupyter) (2.0.10)\n",
      "Requirement already satisfied: backcall in c:\\users\\arian\\anaconda3\\lib\\site-packages (from ipython>=5.0.0->ipykernel->jupyter) (0.1.0)\n",
      "Requirement already satisfied: setuptools>=18.5 in c:\\users\\arian\\anaconda3\\lib\\site-packages (from ipython>=5.0.0->ipykernel->jupyter) (41.4.0)\n",
      "Requirement already satisfied: colorama in c:\\users\\arian\\anaconda3\\lib\\site-packages (from ipython>=5.0.0->ipykernel->jupyter) (0.4.1)\n",
      "Requirement already satisfied: jedi>=0.10 in c:\\users\\arian\\anaconda3\\lib\\site-packages (from ipython>=5.0.0->ipykernel->jupyter) (0.15.1)\n",
      "Requirement already satisfied: pickleshare in c:\\users\\arian\\anaconda3\\lib\\site-packages (from ipython>=5.0.0->ipykernel->jupyter) (0.7.5)\n",
      "Requirement already satisfied: pygments in c:\\users\\arian\\anaconda3\\lib\\site-packages (from ipython>=5.0.0->ipykernel->jupyter) (2.4.2)\n",
      "Requirement already satisfied: parso>=0.5.0 in c:\\users\\arian\\anaconda3\\lib\\site-packages (from jedi>=0.10->ipython>=5.0.0->ipykernel->jupyter) (0.5.1)\n",
      "Requirement already satisfied: wcwidth in c:\\users\\arian\\anaconda3\\lib\\site-packages (from prompt-toolkit<2.1.0,>=2.0.0->ipython>=5.0.0->ipykernel->jupyter) (0.1.7)\n",
      "Requirement already satisfied: six>=1.9.0 in c:\\users\\arian\\anaconda3\\lib\\site-packages (from prompt-toolkit<2.1.0,>=2.0.0->ipython>=5.0.0->ipykernel->jupyter) (1.12.0)\n",
      "Requirement already satisfied: ipython-genutils in c:\\users\\arian\\anaconda3\\lib\\site-packages (from traitlets>=4.1.0->ipykernel->jupyter) (0.2.0)\n",
      "Requirement already satisfied: nbformat>=4.2.0 in c:\\users\\arian\\anaconda3\\lib\\site-packages (from ipywidgets->jupyter) (4.4.0)\n",
      "Requirement already satisfied: widgetsnbextension~=3.5.0 in c:\\users\\arian\\anaconda3\\lib\\site-packages (from ipywidgets->jupyter) (3.5.1)\n",
      "Requirement already satisfied: jupyter-core in c:\\users\\arian\\appdata\\roaming\\python\\python37\\site-packages (from nbformat>=4.2.0->ipywidgets->jupyter) (4.7.1)\n",
      "Requirement already satisfied: jsonschema!=2.5.0,>=2.4 in c:\\users\\arian\\anaconda3\\lib\\site-packages (from nbformat>=4.2.0->ipywidgets->jupyter) (3.0.2)\n",
      "Requirement already satisfied: pyrsistent>=0.14.0 in c:\\users\\arian\\anaconda3\\lib\\site-packages (from jsonschema!=2.5.0,>=2.4->nbformat>=4.2.0->ipywidgets->jupyter) (0.15.4)\n",
      "Requirement already satisfied: attrs>=17.4.0 in c:\\users\\arian\\anaconda3\\lib\\site-packages (from jsonschema!=2.5.0,>=2.4->nbformat>=4.2.0->ipywidgets->jupyter) (19.2.0)\n",
      "Requirement already satisfied: terminado>=0.8.3 in c:\\users\\arian\\appdata\\roaming\\python\\python37\\site-packages (from notebook->jupyter) (0.9.2)\n",
      "Requirement already satisfied: pyzmq>=17 in c:\\users\\arian\\anaconda3\\lib\\site-packages (from notebook->jupyter) (18.1.0)\n",
      "Requirement already satisfied: prometheus-client in c:\\users\\arian\\anaconda3\\lib\\site-packages (from notebook->jupyter) (0.7.1)\n",
      "Requirement already satisfied: argon2-cffi in c:\\users\\arian\\appdata\\roaming\\python\\python37\\site-packages (from notebook->jupyter) (20.1.0)\n",
      "Requirement already satisfied: Send2Trash>=1.5.0 in c:\\users\\arian\\anaconda3\\lib\\site-packages (from notebook->jupyter) (1.5.0)\n",
      "Requirement already satisfied: jinja2 in c:\\users\\arian\\anaconda3\\lib\\site-packages (from notebook->jupyter) (2.10.3)\n",
      "Requirement already satisfied: python-dateutil>=2.1 in c:\\users\\arian\\anaconda3\\lib\\site-packages (from jupyter-client->ipykernel->jupyter) (2.8.0)\n",
      "Requirement already satisfied: pywin32>=1.0 in c:\\users\\arian\\anaconda3\\lib\\site-packages (from jupyter-core->nbformat>=4.2.0->ipywidgets->jupyter) (223)\n",
      "Requirement already satisfied: pywinpty>=0.5 in c:\\users\\arian\\anaconda3\\lib\\site-packages (from terminado>=0.8.3->notebook->jupyter) (0.5.5)\n",
      "Requirement already satisfied: cffi>=1.0.0 in c:\\users\\arian\\anaconda3\\lib\\site-packages (from argon2-cffi->notebook->jupyter) (1.12.3)\n",
      "Requirement already satisfied: pycparser in c:\\users\\arian\\anaconda3\\lib\\site-packages (from cffi>=1.0.0->argon2-cffi->notebook->jupyter) (2.19)\n",
      "Requirement already satisfied: MarkupSafe>=0.23 in c:\\users\\arian\\anaconda3\\lib\\site-packages (from jinja2->notebook->jupyter) (1.1.1)\n",
      "Requirement already satisfied: mistune<2,>=0.8.1 in c:\\users\\arian\\anaconda3\\lib\\site-packages (from nbconvert->jupyter) (0.8.4)\n",
      "Requirement already satisfied: entrypoints>=0.2.2 in c:\\users\\arian\\anaconda3\\lib\\site-packages (from nbconvert->jupyter) (0.3)\n",
      "Requirement already satisfied: testpath in c:\\users\\arian\\anaconda3\\lib\\site-packages (from nbconvert->jupyter) (0.4.2)\n",
      "Requirement already satisfied: pandocfilters>=1.4.1 in c:\\users\\arian\\anaconda3\\lib\\site-packages (from nbconvert->jupyter) (1.4.2)\n",
      "Requirement already satisfied: defusedxml in c:\\users\\arian\\anaconda3\\lib\\site-packages (from nbconvert->jupyter) (0.6.0)\n",
      "Requirement already satisfied: bleach in c:\\users\\arian\\anaconda3\\lib\\site-packages (from nbconvert->jupyter) (3.1.0)\n",
      "Requirement already satisfied: webencodings in c:\\users\\arian\\anaconda3\\lib\\site-packages (from bleach->nbconvert->jupyter) (0.5.1)\n",
      "^C\n"
     ]
    }
   ],
   "source": [
    "!pip install jupyter -U\n",
    "!pip install notebook -U\n",
    "\n",
    "\n",
    "#If you use conda, uncomment lines below and run them.\n",
    "\n",
    "#!conda update jupyter\n",
    "#!conda update notebook"
   ]
  },
  {
   "cell_type": "markdown",
   "metadata": {
    "direction": "ltr"
   },
   "source": [
    "# Q3"
   ]
  },
  {
   "cell_type": "markdown",
   "metadata": {
    "direction": "rtl"
   },
   "source": [
    "در این سوال باید مسئله فروشنده دوره گرد را به کمک Simulated Annealing حل کرده و همچنین نتایج آن را با نتایج راه حل حریصانه مقایسه کنید تا ببینید آیا بهبودی حاصل می شود یا نه. به صورت قدم قدم ابتدا از لود کردن داده‌های تست شروع کرده، سپس حل حریصانه مسئله فروشنده دوره گرد‌ را بررسی کرده و در نهایت به سراغ روش Simulated Annealing می‌رویم. "
   ]
  },
  {
   "cell_type": "markdown",
   "metadata": {
    "direction": "rtl"
   },
   "source": [
    "## صورت مسئله فروشنده دوره‌گرد"
   ]
  },
  {
   "cell_type": "markdown",
   "metadata": {
    "direction": "rtl"
   },
   "source": [
    "گراف کامل وزن دار $G = (V,E)$ را در نظر بگیرید. یک تابع وزن $f(e)$ هم تعریف شده است که به هر یال $e \\in E$ وزنی نسبت می‌دهد. هدف مسئله فروشنده دوره‌گرد پیدا کردن دوری در این گراف است که از تمامی «راس»‌ها بگذرد و بین تمامی دور‌های ممکن، کمترین وزن را داشته باشد. این مسئله در حالت کلی NP-Hard است و با فرض $P\\neq NP$، الگوریتم چندجمله‌ای که جواب بهینه را به ما بدهد وجود ندارد. از این رو استفاده از الگوریتم‌های تفریبی، حریصانه و یا الگوریتم‌های هیورستیک یا فراهیورستیک (نظیر Simulated Annealing) می‌تواند در حل سریع آن و بدست آوردن جواب بهینه محلی (و نه لزوما بهینه سراسری) موثر واقع شود. شکل خاصی که در این سوال بررسی می‌کنیم، با فرض فواصل اقلیدسی است و نامساوی مثلثی برای وزن‌یال‌ها برقرار بوده و عملا به نقاط گراف به چشم شهر‌های یک نقشه مسطح نگاه می‌کنیم. البته شکل اقلیدسی این مسئله نیز همانند حالت کلی NP-Hard است و در نتیجه الگوریتم چندجمله‌ای ندارد."
   ]
  },
  {
   "cell_type": "markdown",
   "metadata": {
    "direction": "rtl"
   },
   "source": [
    "## لود داده تست"
   ]
  },
  {
   "cell_type": "markdown",
   "metadata": {
    "direction": "rtl"
   },
   "source": [
    "داده‌های تست در قالب یک فایل به نام test.txt در کنار این فایل قرار دارند. در هر خط این داده، دو عدد قرار دارد که نشان دهنده مختصات یک شهر (یک راس گراف) است. آن‌ها را در یک لیست (لیست معمولی پایتون یا آرایه numpy) ذخیره کنید. می‌توانید هر کدام را صرفا در قالب یک تاپل ذخیره‌کنید یا کلاسی برای شهر‌ها ایجاد کنید و از هر کدام یک شی بسازید. در این زمینه محدودیتی نیست. "
   ]
  },
  {
   "cell_type": "code",
   "execution_count": 32,
   "metadata": {},
   "outputs": [],
   "source": [
    "cities = []\n",
    "def load_data(path = \"test.txt\"):\n",
    "    with open(path) as f:\n",
    "        data = [tuple(map(float, row.split(' '))) for row in f]\n",
    "    return data\n",
    "cities = load_data()"
   ]
  },
  {
   "cell_type": "markdown",
   "metadata": {
    "direction": "rtl"
   },
   "source": [
    "# تابع فاصله دو شهر و تابع هزینه مسیر"
   ]
  },
  {
   "cell_type": "markdown",
   "metadata": {
    "direction": "rtl"
   },
   "source": [
    "در این قسمت باید تابع distance و تابع cost را تعریف کنید. تابع distance دو شهر را ورودی گرفته (با هر فرمتی که ذخیره کرده‌اید) و فاصله فیثاغورثی بین آن دو را خروجی می‌دهد. منظور از فاصله فیثاغورثی، $\\sqrt{(x_1-x_2)^2 + (y_1-y_2)^2}$ است. تابع cost یک لیست از شهر‌ها ورودی گرفته که بیانگر ترتیب پیمودن شهر‌هاست. این تابع باید فاصله هر شهر با شهر بعدی را بدست آورده و در نهایت مجموع این فواصل را گزارش کند. فراموش نکنید که باید از شهر آخر به شهر اول برگردیم و فاصله این دو هم در محاسبه دخیل است."
   ]
  },
  {
   "cell_type": "code",
   "execution_count": 33,
   "metadata": {},
   "outputs": [],
   "source": [
    "from math import sqrt\n",
    "def distance(city1 , city2):\n",
    "    d = sqrt((city1[0] - city2[0]) ** 2 + (city1[1] - city2[1]) ** 2)\n",
    "    return d\n",
    "\n",
    "def cost(cities):\n",
    "    d = 0\n",
    "    for i in range(len(cities)):\n",
    "        if i == len(cities) - 1:\n",
    "            return d + distance(cities[0], cities[len(cities) - 1])\n",
    "        d += distance(cities[i], cities[i+1])\n"
   ]
  },
  {
   "cell_type": "markdown",
   "metadata": {
    "direction": "rtl"
   },
   "source": [
    "## راه‌حل حریصانه اولیه"
   ]
  },
  {
   "cell_type": "markdown",
   "metadata": {
    "direction": "rtl"
   },
   "source": [
    "به عنوان راه‌حل اول مسئله را به شکل حریصانه حل کنید. از جواب بدست آمده در این بخش برای حالت شروع در قسمت Simulated Annealing استفاده خواهیم کرد و نتیجه نهایی آن را با Simulated Annealing مقایسه خواهیم کرد. در راه حل حریصانه، یک مجموعه شامل همه شهر ها در نظر بگیرید. بار اول یک شهر تصادفی را انتخاب کرده و از مجموعه خارج کنید. سپس هر بار فاصله این شهر جدید را با تمامی شهر‌ها بدست آورده و شهر با کمترین فاصله را به عنوان شهر بعدی انتخاب کنید. شهر جدید را از مجموعه خارج کرده و فرآیند را برای این شهر و سایرشهر‌های لیست ادامه دهید. این کا را تا جایی ادامه دهید که مجموعه خالی بشود. در نهایت هزینه مسیر را گزارش کنید."
   ]
  },
  {
   "cell_type": "code",
   "execution_count": 34,
   "metadata": {},
   "outputs": [],
   "source": [
    "import random\n",
    "def greedy_solution(cities):\n",
    "    path = []\n",
    "    city = random.choice(cities)\n",
    "    index = cities.index(city)\n",
    "    cities.pop(index)\n",
    "    path.append(city)\n",
    "    while cities:\n",
    "        dist = -1\n",
    "        city_index = 0\n",
    "        for i in range(len(cities)):\n",
    "            d = distance(city, cities[i])\n",
    "            if i == 0:\n",
    "                 dist = d\n",
    "            elif d < dist:\n",
    "                dist = d\n",
    "                city_index = i\n",
    "            if i == len(cities) - 1:\n",
    "                path.append(cities[city_index])\n",
    "                city = cities[city_index]\n",
    "                cities.pop(city_index)\n",
    "    return path, cost(path)"
   ]
  },
  {
   "cell_type": "markdown",
   "metadata": {},
   "source": [
    "# Simulated Annealing"
   ]
  },
  {
   "cell_type": "markdown",
   "metadata": {
    "direction": "rtl"
   },
   "source": [
    "حال به سراغ پیاده سازی روش Simulated Annealing می رویم. روشی که در این جا مد نظر داریم این است که در هر iteration از الگوریتم، یک همسایه از نقطه فعلی را انتخاب کنید. اگر هزینه همسایه از نقطه فعلی کمتر بود آن را می پذیریم و نقطه فعلی را برابر همسایه قرار می دهیم. اگر هزینه بیش‌تر بود، با احتمال خاصی باز هم نقطه را می پذیریم. دقیقا این همان قسمتی است که Simulated Annealing وارد کار می‌شود. این احتمال براساس اختلاف هزینه (یا Fitness) دو حالت و همچنین متغیری به نام دما تعیین می‌شود. این دما در طی iteration‌های مختلف تغییر می‌کند و هسته اصلی الگوریتم را می‌سازد. این که مقدار اولیه T چه چیزی باشد و چه طور تغییر کند، بسته به کاربرد متفاوت خواهد بود. این مقدار را با تست‌های مختلف خودتان تعیین کنید. متغیر T را در قسمتی که خود الگوریتم را پیاده سازی می‌کنید باید خودتان مقداردهی کنید. "
   ]
  },
  {
   "cell_type": "code",
   "execution_count": null,
   "metadata": {},
   "outputs": [],
   "source": []
  },
  {
   "cell_type": "markdown",
   "metadata": {
    "direction": "rtl"
   },
   "source": [
    "# بدست آوردن همسایه"
   ]
  },
  {
   "cell_type": "markdown",
   "metadata": {
    "direction": "rtl"
   },
   "source": [
    "برای تولید همسایه یک جواب، به شکل‌های مختلفی می‌توان عمل کرد. یک راه رایج این است که دو نقطه در لیست ترتیب طی کردن فعلی شهر‌ها انتخاب کرده و ترتیب ورود به شهر‌ها در آن لیست را برعکس کنید. راه‌های دیگری هم قابل تصور است. برای این کار get_neighbour را پیاده‌سازی کنید که یک لیست از ترتیب طی کردن شهر‌ها گرفته و یک لیست جدید از ترتیب طی کردن آنان ایجاد می‌کند."
   ]
  },
  {
   "cell_type": "code",
   "execution_count": 35,
   "metadata": {},
   "outputs": [],
   "source": [
    "from random import randrange\n",
    "\n",
    "def get_neighbour(cities):\n",
    "    path = cities.copy()\n",
    "    x, y = randrange(len(path)), randrange(len(path))\n",
    "    if x > y:\n",
    "        x ,y = y, x\n",
    "    path[x:y] = path[x:y][::-1]\n",
    "    return path"
   ]
  },
  {
   "cell_type": "markdown",
   "metadata": {
    "direction": "rtl"
   },
   "source": [
    "# پیاده‌سازی احتمال پذیرفته‌شدن یک حالت "
   ]
  },
  {
   "cell_type": "markdown",
   "metadata": {
    "direction": "rtl"
   },
   "source": [
    "در این قسمت تابع prob_accept را پیاده سازی‌کنید که سه عدد که نشان‌گر هزینه حالت فعلی، هزینه حالت پیشنهادی و دما است را می‌گیرد و احتمال مربوط به الگوریتم Simulated Annealing با فرمول $e^{-\\Delta C / T}$ تولید می‌کند."
   ]
  },
  {
   "cell_type": "code",
   "execution_count": 36,
   "metadata": {},
   "outputs": [],
   "source": [
    "import math\n",
    "def prob_accept(curr_cost , next_cost , T):\n",
    "    p = math.e ** ((-(next_cost - curr_cost)) / T)\n",
    "    return p"
   ]
  },
  {
   "cell_type": "markdown",
   "metadata": {
    "direction": "rtl"
   },
   "source": [
    "# پیاده‌سازی پذیرفته شدن یا نشدن یک حالت"
   ]
  },
  {
   "cell_type": "markdown",
   "metadata": {
    "direction": "rtl"
   },
   "source": [
    "در این بخش باید تابع accept را بنویسید که با گرفتن جواب فعلی و جواب احتمالی آتی و دما، مشخص کند که جواب آتی انتخاب خواهد شد یا نه. "
   ]
  },
  {
   "cell_type": "code",
   "execution_count": 37,
   "metadata": {},
   "outputs": [],
   "source": [
    "def accept(current_state , next_state , T):\n",
    "    curr_cost = cost(current_state)\n",
    "    next_cost = cost(next_state)\n",
    "    if next_cost < curr_cost:\n",
    "        return True\n",
    "    rand = random.random()\n",
    "    if rand < prob_accept(curr_cost, next_cost, T):\n",
    "        return True\n",
    "    return False\n"
   ]
  },
  {
   "cell_type": "markdown",
   "metadata": {
    "direction": "rtl"
   },
   "source": [
    "# پیاده‌سازی نهایی Simulated Annealing"
   ]
  },
  {
   "cell_type": "markdown",
   "metadata": {
    "direction": "rtl"
   },
   "source": [
    "در این بخش پیاده‌سازی نهایی روش باید انجام گیرد. برای آپدیت دما در هر Iteration، مقدار آن را در ضریب کوچک‌تر از ۱ نظیر $\\alpha$ ضرب کنید. همچنین محدودیتی روی حداقل دمای ممکن و حداکثر تعداد Iteration‌ها تعیین کنید تا بعد از آن فرآیند به پایان برسد. هزینه حالت انتخاب شده در پایان هر Iteration را هم در یک آرایه ذخیره کنید. در قسمت بعدی به آن نیاز داریم. بهبود حدودا 7 تا 8 درصدی نسبت به راه حریصانه برای گرفتن نمره سوال کافیست. "
   ]
  },
  {
   "cell_type": "code",
   "execution_count": 38,
   "metadata": {},
   "outputs": [],
   "source": [
    "cost_list = []\n",
    "def anneal(cities, stopping_temperature=1e-8, stopping_iter=5000, alpha=0.995):\n",
    "    cost_list.clear()\n",
    "    # Initialize with the greedy solution.\n",
    "    curr_solution, curr_cost = greedy_solution(cities)\n",
    "    best_solution, best_cost = curr_solution, curr_cost\n",
    "    cost_list.append(curr_cost)\n",
    "    iteration = 0\n",
    "    temp = 50\n",
    "    print(\"Starting annealing.\")\n",
    "    \n",
    "    while iteration < stopping_iter and temp > stopping_temperature:\n",
    "        new_sol = get_neighbour(curr_solution)\n",
    "        if accept(curr_solution, new_sol, temp):\n",
    "            curr_solution = new_sol\n",
    "            curr_cost = cost(new_sol)\n",
    "            \n",
    "        if best_cost > curr_cost:\n",
    "            best_cost = curr_cost\n",
    "            best_solution = curr_solution\n",
    "        \n",
    "        cost_list.append(curr_cost)\n",
    "        iteration += 1\n",
    "        temp *= alpha\n",
    "        \n",
    "    print(\"Best fitness obtained: \", best_cost)\n",
    "    improvement = 100 * (cost_list[0] - best_cost) / (cost_list[0])\n",
    "    print(f\"Improvement over greedy heuristic: {improvement : .2f}%\")\n",
    "    return best_solution , best_cost"
   ]
  },
  {
   "cell_type": "code",
   "execution_count": 39,
   "metadata": {
    "scrolled": true
   },
   "outputs": [
    {
     "name": "stdout",
     "output_type": "stream",
     "text": [
      "Starting annealing.\n",
      "Best fitness obtained:  633.0387221773256\n",
      "Improvement over greedy heuristic:  13.59%\n"
     ]
    }
   ],
   "source": [
    "best_solution , best_cost = anneal(cities)"
   ]
  },
  {
   "cell_type": "markdown",
   "metadata": {
    "direction": "rtl"
   },
   "source": [
    "# مصورسازی"
   ]
  },
  {
   "cell_type": "markdown",
   "metadata": {
    "direction": "rtl"
   },
   "source": [
    "نمودار هزینه جواب بدست آمده در پایان هر Iteration را بر حسب شماره Iteration رسم کنید. "
   ]
  },
  {
   "cell_type": "code",
   "execution_count": 40,
   "metadata": {},
   "outputs": [
    {
     "data": {
      "image/png": "[encoded data removed]",
      "text/plain": [
       "<Figure size 432x288 with 1 Axes>"
      ]
     },
     "metadata": {
      "needs_background": "light"
     },
     "output_type": "display_data"
    }
   ],
   "source": [
    "import matplotlib.pyplot as plt\n",
    "\n",
    "def plot_cost(cost_list):\n",
    "    plt.plot(cost_list)\n",
    "    \n",
    "plot_cost(cost_list)"
   ]
  },
  {
   "cell_type": "markdown",
   "metadata": {
    "direction": "rtl"
   },
   "source": [
    "نقاطی که در جواب بدست آمده را روی نمودار نشان داده و به ترتیبی که دیده شده‌اند با خط به یکدیگر وصل کنید."
   ]
  },
  {
   "cell_type": "code",
   "execution_count": 41,
   "metadata": {},
   "outputs": [
    {
     "data": {
      "image/png": "[encoded data removed]",
      "text/plain": [
       "<Figure size 432x288 with 1 Axes>"
      ]
     },
     "metadata": {
      "needs_background": "light"
     },
     "output_type": "display_data"
    }
   ],
   "source": [
    "import matplotlib.pyplot as plt\n",
    "\n",
    "def plot_path(best_solution):\n",
    "    x_val = [x[0] for x in best_solution]\n",
    "    y_val = [x[1] for x in best_solution]\n",
    "    x_val.append(best_solution[0][0])\n",
    "    y_val.append(best_solution[0][1])\n",
    "    plt.plot(x_val,y_val)\n",
    "    \n",
    "plot_path(best_solution)"
   ]
  },
  {
   "cell_type": "code",
   "execution_count": null,
   "metadata": {},
   "outputs": [],
   "source": []
  }
 ],
 "metadata": {
  "kernelspec": {
   "display_name": "Python 3",
   "language": "python",
   "name": "python3"
  },
  "language_info": {
   "codemirror_mode": {
    "name": "ipython",
    "version": 3
   },
   "file_extension": ".py",
   "mimetype": "text/x-python",
   "name": "python",
   "nbconvert_exporter": "python",
   "pygments_lexer": "ipython3",
   "version": "3.7.4"
  },
  "latex_envs": {
   "LaTeX_envs_menu_present": true,
   "autoclose": false,
   "autocomplete": true,
   "bibliofile": "biblio.bib",
   "cite_by": "apalike",
   "current_citInitial": 1,
   "eqLabelWithNumbers": true,
   "eqNumInitial": 1,
   "hotkeys": {
    "equation": "Ctrl-E",
    "itemize": "Ctrl-I"
   },
   "labels_anchors": false,
   "latex_user_defs": false,
   "report_style_numbering": false,
   "user_envs_cfg": false
  },
  "toc": {
   "base_numbering": 1,
   "nav_menu": {},
   "number_sections": true,
   "sideBar": true,
   "skip_h1_title": false,
   "title_cell": "Table of Contents",
   "title_sidebar": "Contents",
   "toc_cell": false,
   "toc_position": {},
   "toc_section_display": true,
   "toc_window_display": false
  },
  "varInspector": {
   "cols": {
    "lenName": 16,
    "lenType": 16,
    "lenVar": 40
   },
   "kernels_config": {
    "python": {
     "delete_cmd_postfix": "",
     "delete_cmd_prefix": "del ",
     "library": "var_list.py",
     "varRefreshCmd": "print(var_dic_list())"
    },
    "r": {
     "delete_cmd_postfix": ") ",
     "delete_cmd_prefix": "rm(",
     "library": "var_list.r",
     "varRefreshCmd": "cat(var_dic_list()) "
    }
   },
   "types_to_exclude": [
    "module",
    "function",
    "builtin_function_or_method",
    "instance",
    "_Feature"
   ],
   "window_display": false
  }
 },
 "nbformat": 4,
 "nbformat_minor": 2
}
